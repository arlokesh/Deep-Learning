{
 "cells": [
  {
   "cell_type": "markdown",
   "metadata": {},
   "source": [
    "# CIFAR10 Dataset for classification"
   ]
  },
  {
   "cell_type": "code",
   "execution_count": 28,
   "metadata": {},
   "outputs": [],
   "source": [
    "import tensorflow as tf\n",
    "from tensorflow.keras import datasets,layers,models\n",
    "import matplotlib.pyplot as plt\n",
    "import numpy as np"
   ]
  },
  {
   "cell_type": "code",
   "execution_count": 29,
   "metadata": {},
   "outputs": [],
   "source": [
    "(X_train,y_train),(X_test,y_test)=datasets.cifar10.load_data()"
   ]
  },
  {
   "cell_type": "code",
   "execution_count": 30,
   "metadata": {},
   "outputs": [
    {
     "data": {
      "text/plain": [
       "(50000, 32, 32, 3)"
      ]
     },
     "execution_count": 30,
     "metadata": {},
     "output_type": "execute_result"
    }
   ],
   "source": [
    "X_train.shape"
   ]
  },
  {
   "cell_type": "code",
   "execution_count": 31,
   "metadata": {},
   "outputs": [
    {
     "data": {
      "text/plain": [
       "(50000, 1)"
      ]
     },
     "execution_count": 31,
     "metadata": {},
     "output_type": "execute_result"
    }
   ],
   "source": [
    "y_train.shape"
   ]
  },
  {
   "cell_type": "code",
   "execution_count": 32,
   "metadata": {},
   "outputs": [
    {
     "data": {
      "text/plain": [
       "array([[6],\n",
       "       [9],\n",
       "       [9],\n",
       "       [4],\n",
       "       [1]], dtype=uint8)"
      ]
     },
     "execution_count": 32,
     "metadata": {},
     "output_type": "execute_result"
    }
   ],
   "source": [
    "y_train[:5]"
   ]
  },
  {
   "cell_type": "code",
   "execution_count": 33,
   "metadata": {},
   "outputs": [
    {
     "data": {
      "text/plain": [
       "array([6, 9, 9, 4, 1], dtype=uint8)"
      ]
     },
     "execution_count": 33,
     "metadata": {},
     "output_type": "execute_result"
    }
   ],
   "source": [
    "y_train=y_train.reshape(-1,)\n",
    "y_train[:5]"
   ]
  },
  {
   "cell_type": "code",
   "execution_count": 46,
   "metadata": {},
   "outputs": [],
   "source": [
    "classes=[\"airplane\",\"automobile\",\"bird\",\"car\",\"deer\",\"dog\",\"frog\",\"horse\",\"ship\",\"truck\"]"
   ]
  },
  {
   "cell_type": "code",
   "execution_count": 47,
   "metadata": {},
   "outputs": [
    {
     "data": {
      "text/plain": [
       "'automobile'"
      ]
     },
     "execution_count": 47,
     "metadata": {},
     "output_type": "execute_result"
    }
   ],
   "source": [
    "classes[1]"
   ]
  },
  {
   "cell_type": "code",
   "execution_count": 48,
   "metadata": {},
   "outputs": [
    {
     "data": {
      "text/plain": [
       "<matplotlib.image.AxesImage at 0x28131dda408>"
      ]
     },
     "execution_count": 48,
     "metadata": {},
     "output_type": "execute_result"
    },
    {
     "data": {
      "image/png": "[encoded data removed]",
      "text/plain": [
       "<Figure size 432x288 with 1 Axes>"
      ]
     },
     "metadata": {
      "needs_background": "light"
     },
     "output_type": "display_data"
    }
   ],
   "source": [
    "plt.imshow(X_train[3])"
   ]
  },
  {
   "cell_type": "code",
   "execution_count": 49,
   "metadata": {},
   "outputs": [],
   "source": [
    "def plot_sample(X,y,index):\n",
    "    plt.figure(figsize=(15,2))\n",
    "    plt.imshow(X[index])\n",
    "    plt.xlabel(classes[y[index]])"
   ]
  },
  {
   "cell_type": "markdown",
   "metadata": {},
   "source": [
    "## "
   ]
  },
  {
   "cell_type": "code",
   "execution_count": 52,
   "metadata": {},
   "outputs": [
    {
     "data": {
      "image/png": "[encoded data removed]",
      "text/plain": [
       "<Figure size 1080x144 with 1 Axes>"
      ]
     },
     "metadata": {
      "needs_background": "light"
     },
     "output_type": "display_data"
    }
   ],
   "source": [
    "plot_sample(X_train,y_train,3)"
   ]
  },
  {
   "cell_type": "code",
   "execution_count": 53,
   "metadata": {},
   "outputs": [],
   "source": [
    "X_train=X_train/255\n",
    "X_test=X_test/255"
   ]
  },
  {
   "cell_type": "code",
   "execution_count": 78,
   "metadata": {},
   "outputs": [
    {
     "data": {
      "text/plain": [
       "(50000, 32, 32, 3)"
      ]
     },
     "execution_count": 78,
     "metadata": {},
     "output_type": "execute_result"
    }
   ],
   "source": [
    "X_train.shape"
   ]
  },
  {
   "cell_type": "code",
   "execution_count": 57,
   "metadata": {},
   "outputs": [
    {
     "name": "stdout",
     "output_type": "stream",
     "text": [
      "Epoch 1/5\n",
      "1563/1563 [==============================] - 49s 31ms/step - loss: 1.8630 - accuracy: 0.3306\n",
      "Epoch 2/5\n",
      "1563/1563 [==============================] - 52s 33ms/step - loss: 1.6582 - accuracy: 0.4150\n",
      "Epoch 3/5\n",
      "1563/1563 [==============================] - 54s 35ms/step - loss: 1.5719 - accuracy: 0.4431\n",
      "Epoch 4/5\n",
      "1563/1563 [==============================] - 58s 37ms/step - loss: 1.5097 - accuracy: 0.4665\n",
      "Epoch 5/5\n",
      "1563/1563 [==============================] - 57s 36ms/step - loss: 1.4595 - accuracy: 0.4838\n"
     ]
    },
    {
     "data": {
      "text/plain": [
       "<tensorflow.python.keras.callbacks.History at 0x281343e9f88>"
      ]
     },
     "execution_count": 57,
     "metadata": {},
     "output_type": "execute_result"
    }
   ],
   "source": [
    "ann=models.Sequential([\n",
    "    layers.Flatten(input_shape=(32,32,3)),\n",
    "    layers.Dense(3000,activation=\"relu\"),\n",
    "    layers.Dense(1000,activation=\"relu\"),\n",
    "    layers.Dense(10,activation=\"sigmoid\")\n",
    "])\n",
    "\n",
    "ann.compile(optimizer='SGD',\n",
    "           loss='sparse_categorical_crossentropy',\n",
    "           metrics=['accuracy'])\n",
    "\n",
    "ann.fit(X_train,y_train,epochs=5)"
   ]
  },
  {
   "cell_type": "code",
   "execution_count": 63,
   "metadata": {},
   "outputs": [
    {
     "name": "stdout",
     "output_type": "stream",
     "text": [
      "classification_report \n",
      "               precision    recall  f1-score   support\n",
      "\n",
      "           0       0.69      0.38      0.49      1000\n",
      "           1       0.46      0.78      0.58      1000\n",
      "           2       0.46      0.16      0.24      1000\n",
      "           3       0.37      0.36      0.36      1000\n",
      "           4       0.31      0.58      0.41      1000\n",
      "           5       0.56      0.20      0.29      1000\n",
      "           6       0.50      0.55      0.53      1000\n",
      "           7       0.42      0.68      0.52      1000\n",
      "           8       0.54      0.69      0.61      1000\n",
      "           9       0.73      0.19      0.30      1000\n",
      "\n",
      "    accuracy                           0.46     10000\n",
      "   macro avg       0.50      0.46      0.43     10000\n",
      "weighted avg       0.50      0.46      0.43     10000\n",
      "\n"
     ]
    }
   ],
   "source": [
    "from sklearn.metrics import confusion_matrix,classification_report\n",
    "import numpy as np\n",
    "y_pred=ann.predict(X_test)\n",
    "y_pred_classes=[np.argmax(element) for element in y_pred]\n",
    "\n",
    "print('classification_report \\n',classification_report(y_test,y_pred_classes))"
   ]
  },
  {
   "cell_type": "code",
   "execution_count": 84,
   "metadata": {},
   "outputs": [],
   "source": [
    "cnn = models.Sequential([\n",
    "    layers.Conv2D(filters=32, kernel_size=(3, 3), activation='relu', input_shape=(32, 32, 3)),\n",
    "    layers.MaxPooling2D((2, 2)),\n",
    "    \n",
    "    layers.Conv2D(filters=64, kernel_size=(3, 3), activation='relu'),\n",
    "    layers.MaxPooling2D((2, 2)),\n",
    "    \n",
    "    layers.Flatten(),\n",
    "    layers.Dense(64, activation='relu'),\n",
    "    layers.Dense(10, activation='softmax')\n",
    "])"
   ]
  },
  {
   "cell_type": "code",
   "execution_count": 85,
   "metadata": {},
   "outputs": [],
   "source": [
    "cnn.compile(optimizer='adam',\n",
    "              loss='sparse_categorical_crossentropy',\n",
    "              metrics=['accuracy'])"
   ]
  },
  {
   "cell_type": "code",
   "execution_count": 86,
   "metadata": {},
   "outputs": [
    {
     "data": {
      "text/plain": [
       "(50000, 32, 32, 3)"
      ]
     },
     "execution_count": 86,
     "metadata": {},
     "output_type": "execute_result"
    }
   ],
   "source": [
    "y_train.shape\n",
    "X_train.shape"
   ]
  },
  {
   "cell_type": "code",
   "execution_count": 122,
   "metadata": {},
   "outputs": [
    {
     "name": "stdout",
     "output_type": "stream",
     "text": [
      "Epoch 1/20\n",
      "1563/1563 [==============================] - 22s 14ms/step - loss: 0.5163 - accuracy: 0.8190\n",
      "Epoch 2/20\n",
      "1563/1563 [==============================] - 28s 18ms/step - loss: 0.4782 - accuracy: 0.8339\n",
      "Epoch 3/20\n",
      "1563/1563 [==============================] - 30s 19ms/step - loss: 0.4462 - accuracy: 0.8440\n",
      "Epoch 4/20\n",
      "1563/1563 [==============================] - 28s 18ms/step - loss: 0.4186 - accuracy: 0.8527\n",
      "Epoch 5/20\n",
      "1563/1563 [==============================] - 30s 19ms/step - loss: 0.3818 - accuracy: 0.86510s - loss: 0.3\n",
      "Epoch 6/20\n",
      "1563/1563 [==============================] - 27s 18ms/step - loss: 0.3533 - accuracy: 0.8749\n",
      "Epoch 7/20\n",
      "1563/1563 [==============================] - 30s 19ms/step - loss: 0.3289 - accuracy: 0.8829\n",
      "Epoch 8/20\n",
      "1563/1563 [==============================] - 27s 17ms/step - loss: 0.3003 - accuracy: 0.8936\n",
      "Epoch 9/20\n",
      "1563/1563 [==============================] - 28s 18ms/step - loss: 0.2799 - accuracy: 0.9007\n",
      "Epoch 10/20\n",
      "1563/1563 [==============================] - 31s 20ms/step - loss: 0.2586 - accuracy: 0.9085\n",
      "Epoch 11/20\n",
      "1563/1563 [==============================] - 29s 18ms/step - loss: 0.2372 - accuracy: 0.91520s - loss: 0.2368 - accuracy: 0.\n",
      "Epoch 12/20\n",
      "1563/1563 [==============================] - 29s 18ms/step - loss: 0.2258 - accuracy: 0.9186\n",
      "Epoch 13/20\n",
      "1563/1563 [==============================] - 28s 18ms/step - loss: 0.2058 - accuracy: 0.92690s - los\n",
      "Epoch 14/20\n",
      "1563/1563 [==============================] - 29s 18ms/step - loss: 0.1986 - accuracy: 0.92870s - loss: 0.1982 - accu\n",
      "Epoch 15/20\n",
      "1563/1563 [==============================] - 25s 16ms/step - loss: 0.1753 - accuracy: 0.9378\n",
      "Epoch 16/20\n",
      "1563/1563 [==============================] - 27s 17ms/step - loss: 0.1752 - accuracy: 0.9369\n",
      "Epoch 17/20\n",
      "1563/1563 [==============================] - 26s 17ms/step - loss: 0.1617 - accuracy: 0.9421\n",
      "Epoch 18/20\n",
      "1563/1563 [==============================] - 27s 17ms/step - loss: 0.1495 - accuracy: 0.9467\n",
      "Epoch 19/20\n",
      "1563/1563 [==============================] - 27s 17ms/step - loss: 0.1466 - accuracy: 0.9465\n",
      "Epoch 20/20\n",
      "1563/1563 [==============================] - 25s 16ms/step - loss: 0.1389 - accuracy: 0.9499\n"
     ]
    },
    {
     "data": {
      "text/plain": [
       "<tensorflow.python.keras.callbacks.History at 0x281378d2308>"
      ]
     },
     "execution_count": 122,
     "metadata": {},
     "output_type": "execute_result"
    }
   ],
   "source": [
    "cnn.fit(X_train, y_train, epochs=20)"
   ]
  },
  {
   "cell_type": "code",
   "execution_count": 123,
   "metadata": {},
   "outputs": [
    {
     "name": "stdout",
     "output_type": "stream",
     "text": [
      "313/313 [==============================] - 1s 5ms/step - loss: 2.2429 - accuracy: 0.6717\n"
     ]
    },
    {
     "data": {
      "text/plain": [
       "[2.2428786754608154, 0.6717000007629395]"
      ]
     },
     "execution_count": 123,
     "metadata": {},
     "output_type": "execute_result"
    }
   ],
   "source": [
    "cnn.evaluate(X_test,y_test)"
   ]
  },
  {
   "cell_type": "code",
   "execution_count": 124,
   "metadata": {},
   "outputs": [
    {
     "data": {
      "text/plain": [
       "(10000,)"
      ]
     },
     "execution_count": 124,
     "metadata": {},
     "output_type": "execute_result"
    }
   ],
   "source": [
    "#X_test[0]\n",
    "y_test=y_test.reshape(-1,)\n",
    "y_test.shape\n",
    "#plot_sample(X_test,y_test,1)"
   ]
  },
  {
   "cell_type": "code",
   "execution_count": 125,
   "metadata": {},
   "outputs": [
    {
     "data": {
      "image/png": "[encoded data removed]",
      "text/plain": [
       "<Figure size 1080x144 with 1 Axes>"
      ]
     },
     "metadata": {
      "needs_background": "light"
     },
     "output_type": "display_data"
    }
   ],
   "source": [
    "plot_sample(X_test,y_test,1)"
   ]
  },
  {
   "cell_type": "code",
   "execution_count": 126,
   "metadata": {},
   "outputs": [
    {
     "data": {
      "text/plain": [
       "array([[1.09689315e-08, 1.97439929e-11, 1.06687505e-04, 9.96791780e-01,\n",
       "        9.94903999e-08, 2.99053174e-03, 4.03279482e-05, 1.61958340e-07,\n",
       "        7.04563718e-05, 1.77757448e-10],\n",
       "       [3.94608096e-11, 9.37026925e-03, 4.32364411e-18, 1.57538997e-14,\n",
       "        3.61857914e-19, 1.99778109e-20, 2.33191141e-21, 1.15131810e-30,\n",
       "        9.90629733e-01, 8.40214739e-14],\n",
       "       [3.21635194e-02, 4.02782287e-04, 9.52553023e-07, 4.33199375e-07,\n",
       "        4.42985720e-06, 3.34784218e-08, 2.24354216e-10, 4.02086318e-01,\n",
       "        5.65339804e-01, 1.78342430e-06],\n",
       "       [9.99750197e-01, 3.24560208e-16, 1.39712327e-04, 3.08735815e-11,\n",
       "        2.12773430e-05, 8.95819606e-13, 7.31340075e-18, 1.66083423e-12,\n",
       "        8.88399300e-05, 7.16361042e-17],\n",
       "       [1.08574657e-14, 1.59293185e-14, 1.48931998e-04, 3.47640514e-02,\n",
       "        1.40921306e-02, 9.12995745e-07, 9.50993896e-01, 9.43511870e-13,\n",
       "        6.12865268e-14, 9.36101565e-13]], dtype=float32)"
      ]
     },
     "execution_count": 126,
     "metadata": {},
     "output_type": "execute_result"
    }
   ],
   "source": [
    "y_pred=cnn.predict(X_test)\n",
    "y_pred[:5]"
   ]
  },
  {
   "cell_type": "code",
   "execution_count": 127,
   "metadata": {},
   "outputs": [
    {
     "data": {
      "text/plain": [
       "3"
      ]
     },
     "execution_count": 127,
     "metadata": {},
     "output_type": "execute_result"
    }
   ],
   "source": [
    "np.argmax(y_pred[0])"
   ]
  },
  {
   "cell_type": "code",
   "execution_count": 128,
   "metadata": {},
   "outputs": [
    {
     "data": {
      "text/plain": [
       "[3, 8, 8, 0]"
      ]
     },
     "execution_count": 128,
     "metadata": {},
     "output_type": "execute_result"
    }
   ],
   "source": [
    "y_classes=([np.argmax(element) for element in y_pred])\n",
    "y_classes[:4]"
   ]
  },
  {
   "cell_type": "code",
   "execution_count": 129,
   "metadata": {},
   "outputs": [
    {
     "data": {
      "text/plain": [
       "array([3, 8, 8, 0], dtype=uint8)"
      ]
     },
     "execution_count": 129,
     "metadata": {},
     "output_type": "execute_result"
    }
   ],
   "source": [
    "y_test[:4]"
   ]
  },
  {
   "cell_type": "code",
   "execution_count": 130,
   "metadata": {},
   "outputs": [
    {
     "data": {
      "text/plain": [
       "['airplane',\n",
       " 'automobile',\n",
       " 'bird',\n",
       " 'car',\n",
       " 'deer',\n",
       " 'dog',\n",
       " 'frog',\n",
       " 'horse',\n",
       " 'ship',\n",
       " 'truck']"
      ]
     },
     "execution_count": 130,
     "metadata": {},
     "output_type": "execute_result"
    }
   ],
   "source": [
    "classes"
   ]
  },
  {
   "cell_type": "code",
   "execution_count": 131,
   "metadata": {},
   "outputs": [
    {
     "data": {
      "image/png": "[encoded data removed]",
      "text/plain": [
       "<Figure size 1080x144 with 1 Axes>"
      ]
     },
     "metadata": {
      "needs_background": "light"
     },
     "output_type": "display_data"
    }
   ],
   "source": [
    "plot_sample(X_test,y_test,1)"
   ]
  },
  {
   "cell_type": "code",
   "execution_count": 132,
   "metadata": {},
   "outputs": [
    {
     "data": {
      "text/plain": [
       "'car'"
      ]
     },
     "execution_count": 132,
     "metadata": {},
     "output_type": "execute_result"
    }
   ],
   "source": [
    "classes[y_classes[0]]"
   ]
  },
  {
   "cell_type": "code",
   "execution_count": 133,
   "metadata": {},
   "outputs": [
    {
     "name": "stdout",
     "output_type": "stream",
     "text": [
      "classification report \n",
      "               precision    recall  f1-score   support\n",
      "\n",
      "           0       0.71      0.74      0.72      1000\n",
      "           1       0.80      0.77      0.78      1000\n",
      "           2       0.53      0.58      0.56      1000\n",
      "           3       0.49      0.51      0.50      1000\n",
      "           4       0.65      0.56      0.60      1000\n",
      "           5       0.56      0.57      0.57      1000\n",
      "           6       0.77      0.71      0.74      1000\n",
      "           7       0.69      0.77      0.73      1000\n",
      "           8       0.74      0.81      0.78      1000\n",
      "           9       0.81      0.69      0.75      1000\n",
      "\n",
      "    accuracy                           0.67     10000\n",
      "   macro avg       0.68      0.67      0.67     10000\n",
      "weighted avg       0.68      0.67      0.67     10000\n",
      "\n"
     ]
    }
   ],
   "source": [
    "print(\"classification report \\n\",classification_report(y_test,y_classes))"
   ]
  },
  {
   "cell_type": "code",
   "execution_count": null,
   "metadata": {},
   "outputs": [],
   "source": []
  }
 ],
 "metadata": {
  "kernelspec": {
   "display_name": "Python 3",
   "language": "python",
   "name": "python3"
  },
  "language_info": {
   "codemirror_mode": {
    "name": "ipython",
    "version": 3
   },
   "file_extension": ".py",
   "mimetype": "text/x-python",
   "name": "python",
   "nbconvert_exporter": "python",
   "pygments_lexer": "ipython3",
   "version": "3.7.6"
  }
 },
 "nbformat": 4,
 "nbformat_minor": 4
}
