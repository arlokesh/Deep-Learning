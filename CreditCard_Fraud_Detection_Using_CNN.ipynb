{
 "cells": [
  {
   "cell_type": "markdown",
   "metadata": {},
   "source": [
    "# Credit Card Fraud Detection using CNN"
   ]
  },
  {
   "cell_type": "code",
   "execution_count": 50,
   "metadata": {},
   "outputs": [],
   "source": [
    "import pandas as pd\n",
    "import numpy as np\n",
    "from sklearn.model_selection import train_test_split #for spliting the data \n",
    "from sklearn.preprocessing import StandardScaler # for scaling the data"
   ]
  },
  {
   "cell_type": "code",
   "execution_count": 2,
   "metadata": {},
   "outputs": [],
   "source": [
    "df=pd.read_csv(\"creditcard.csv\")"
   ]
  },
  {
   "cell_type": "code",
   "execution_count": 3,
   "metadata": {},
   "outputs": [
    {
     "data": {
      "text/html": [
       "<div>\n",
       "<style scoped>\n",
       "    .dataframe tbody tr th:only-of-type {\n",
       "        vertical-align: middle;\n",
       "    }\n",
       "\n",
       "    .dataframe tbody tr th {\n",
       "        vertical-align: top;\n",
       "    }\n",
       "\n",
       "    .dataframe thead th {\n",
       "        text-align: right;\n",
       "    }\n",
       "</style>\n",
       "<table border=\"1\" class=\"dataframe\">\n",
       "  <thead>\n",
       "    <tr style=\"text-align: right;\">\n",
       "      <th></th>\n",
       "      <th>Time</th>\n",
       "      <th>V1</th>\n",
       "      <th>V2</th>\n",
       "      <th>V3</th>\n",
       "      <th>V4</th>\n",
       "      <th>V5</th>\n",
       "      <th>V6</th>\n",
       "      <th>V7</th>\n",
       "      <th>V8</th>\n",
       "      <th>V9</th>\n",
       "      <th>...</th>\n",
       "      <th>V21</th>\n",
       "      <th>V22</th>\n",
       "      <th>V23</th>\n",
       "      <th>V24</th>\n",
       "      <th>V25</th>\n",
       "      <th>V26</th>\n",
       "      <th>V27</th>\n",
       "      <th>V28</th>\n",
       "      <th>Amount</th>\n",
       "      <th>Class</th>\n",
       "    </tr>\n",
       "  </thead>\n",
       "  <tbody>\n",
       "    <tr>\n",
       "      <th>0</th>\n",
       "      <td>0.0</td>\n",
       "      <td>-1.359807</td>\n",
       "      <td>-0.072781</td>\n",
       "      <td>2.536347</td>\n",
       "      <td>1.378155</td>\n",
       "      <td>-0.338321</td>\n",
       "      <td>0.462388</td>\n",
       "      <td>0.239599</td>\n",
       "      <td>0.098698</td>\n",
       "      <td>0.363787</td>\n",
       "      <td>...</td>\n",
       "      <td>-0.018307</td>\n",
       "      <td>0.277838</td>\n",
       "      <td>-0.110474</td>\n",
       "      <td>0.066928</td>\n",
       "      <td>0.128539</td>\n",
       "      <td>-0.189115</td>\n",
       "      <td>0.133558</td>\n",
       "      <td>-0.021053</td>\n",
       "      <td>149.62</td>\n",
       "      <td>0</td>\n",
       "    </tr>\n",
       "    <tr>\n",
       "      <th>1</th>\n",
       "      <td>0.0</td>\n",
       "      <td>1.191857</td>\n",
       "      <td>0.266151</td>\n",
       "      <td>0.166480</td>\n",
       "      <td>0.448154</td>\n",
       "      <td>0.060018</td>\n",
       "      <td>-0.082361</td>\n",
       "      <td>-0.078803</td>\n",
       "      <td>0.085102</td>\n",
       "      <td>-0.255425</td>\n",
       "      <td>...</td>\n",
       "      <td>-0.225775</td>\n",
       "      <td>-0.638672</td>\n",
       "      <td>0.101288</td>\n",
       "      <td>-0.339846</td>\n",
       "      <td>0.167170</td>\n",
       "      <td>0.125895</td>\n",
       "      <td>-0.008983</td>\n",
       "      <td>0.014724</td>\n",
       "      <td>2.69</td>\n",
       "      <td>0</td>\n",
       "    </tr>\n",
       "    <tr>\n",
       "      <th>2</th>\n",
       "      <td>1.0</td>\n",
       "      <td>-1.358354</td>\n",
       "      <td>-1.340163</td>\n",
       "      <td>1.773209</td>\n",
       "      <td>0.379780</td>\n",
       "      <td>-0.503198</td>\n",
       "      <td>1.800499</td>\n",
       "      <td>0.791461</td>\n",
       "      <td>0.247676</td>\n",
       "      <td>-1.514654</td>\n",
       "      <td>...</td>\n",
       "      <td>0.247998</td>\n",
       "      <td>0.771679</td>\n",
       "      <td>0.909412</td>\n",
       "      <td>-0.689281</td>\n",
       "      <td>-0.327642</td>\n",
       "      <td>-0.139097</td>\n",
       "      <td>-0.055353</td>\n",
       "      <td>-0.059752</td>\n",
       "      <td>378.66</td>\n",
       "      <td>0</td>\n",
       "    </tr>\n",
       "    <tr>\n",
       "      <th>3</th>\n",
       "      <td>1.0</td>\n",
       "      <td>-0.966272</td>\n",
       "      <td>-0.185226</td>\n",
       "      <td>1.792993</td>\n",
       "      <td>-0.863291</td>\n",
       "      <td>-0.010309</td>\n",
       "      <td>1.247203</td>\n",
       "      <td>0.237609</td>\n",
       "      <td>0.377436</td>\n",
       "      <td>-1.387024</td>\n",
       "      <td>...</td>\n",
       "      <td>-0.108300</td>\n",
       "      <td>0.005274</td>\n",
       "      <td>-0.190321</td>\n",
       "      <td>-1.175575</td>\n",
       "      <td>0.647376</td>\n",
       "      <td>-0.221929</td>\n",
       "      <td>0.062723</td>\n",
       "      <td>0.061458</td>\n",
       "      <td>123.50</td>\n",
       "      <td>0</td>\n",
       "    </tr>\n",
       "    <tr>\n",
       "      <th>4</th>\n",
       "      <td>2.0</td>\n",
       "      <td>-1.158233</td>\n",
       "      <td>0.877737</td>\n",
       "      <td>1.548718</td>\n",
       "      <td>0.403034</td>\n",
       "      <td>-0.407193</td>\n",
       "      <td>0.095921</td>\n",
       "      <td>0.592941</td>\n",
       "      <td>-0.270533</td>\n",
       "      <td>0.817739</td>\n",
       "      <td>...</td>\n",
       "      <td>-0.009431</td>\n",
       "      <td>0.798278</td>\n",
       "      <td>-0.137458</td>\n",
       "      <td>0.141267</td>\n",
       "      <td>-0.206010</td>\n",
       "      <td>0.502292</td>\n",
       "      <td>0.219422</td>\n",
       "      <td>0.215153</td>\n",
       "      <td>69.99</td>\n",
       "      <td>0</td>\n",
       "    </tr>\n",
       "  </tbody>\n",
       "</table>\n",
       "<p>5 rows × 31 columns</p>\n",
       "</div>"
      ],
      "text/plain": [
       "   Time        V1        V2        V3        V4        V5        V6        V7  \\\n",
       "0   0.0 -1.359807 -0.072781  2.536347  1.378155 -0.338321  0.462388  0.239599   \n",
       "1   0.0  1.191857  0.266151  0.166480  0.448154  0.060018 -0.082361 -0.078803   \n",
       "2   1.0 -1.358354 -1.340163  1.773209  0.379780 -0.503198  1.800499  0.791461   \n",
       "3   1.0 -0.966272 -0.185226  1.792993 -0.863291 -0.010309  1.247203  0.237609   \n",
       "4   2.0 -1.158233  0.877737  1.548718  0.403034 -0.407193  0.095921  0.592941   \n",
       "\n",
       "         V8        V9  ...       V21       V22       V23       V24       V25  \\\n",
       "0  0.098698  0.363787  ... -0.018307  0.277838 -0.110474  0.066928  0.128539   \n",
       "1  0.085102 -0.255425  ... -0.225775 -0.638672  0.101288 -0.339846  0.167170   \n",
       "2  0.247676 -1.514654  ...  0.247998  0.771679  0.909412 -0.689281 -0.327642   \n",
       "3  0.377436 -1.387024  ... -0.108300  0.005274 -0.190321 -1.175575  0.647376   \n",
       "4 -0.270533  0.817739  ... -0.009431  0.798278 -0.137458  0.141267 -0.206010   \n",
       "\n",
       "        V26       V27       V28  Amount  Class  \n",
       "0 -0.189115  0.133558 -0.021053  149.62      0  \n",
       "1  0.125895 -0.008983  0.014724    2.69      0  \n",
       "2 -0.139097 -0.055353 -0.059752  378.66      0  \n",
       "3 -0.221929  0.062723  0.061458  123.50      0  \n",
       "4  0.502292  0.219422  0.215153   69.99      0  \n",
       "\n",
       "[5 rows x 31 columns]"
      ]
     },
     "execution_count": 3,
     "metadata": {},
     "output_type": "execute_result"
    }
   ],
   "source": [
    "df.head()"
   ]
  },
  {
   "cell_type": "code",
   "execution_count": 4,
   "metadata": {},
   "outputs": [
    {
     "data": {
      "text/plain": [
       "(284807, 31)"
      ]
     },
     "execution_count": 4,
     "metadata": {},
     "output_type": "execute_result"
    }
   ],
   "source": [
    "df.shape"
   ]
  },
  {
   "cell_type": "code",
   "execution_count": 5,
   "metadata": {},
   "outputs": [
    {
     "data": {
      "text/plain": [
       "Time      0\n",
       "V1        0\n",
       "V2        0\n",
       "V3        0\n",
       "V4        0\n",
       "V5        0\n",
       "V6        0\n",
       "V7        0\n",
       "V8        0\n",
       "V9        0\n",
       "V10       0\n",
       "V11       0\n",
       "V12       0\n",
       "V13       0\n",
       "V14       0\n",
       "V15       0\n",
       "V16       0\n",
       "V17       0\n",
       "V18       0\n",
       "V19       0\n",
       "V20       0\n",
       "V21       0\n",
       "V22       0\n",
       "V23       0\n",
       "V24       0\n",
       "V25       0\n",
       "V26       0\n",
       "V27       0\n",
       "V28       0\n",
       "Amount    0\n",
       "Class     0\n",
       "dtype: int64"
      ]
     },
     "execution_count": 5,
     "metadata": {},
     "output_type": "execute_result"
    }
   ],
   "source": [
    "df.isnull().sum()"
   ]
  },
  {
   "cell_type": "code",
   "execution_count": 6,
   "metadata": {},
   "outputs": [
    {
     "name": "stdout",
     "output_type": "stream",
     "text": [
      "<class 'pandas.core.frame.DataFrame'>\n",
      "RangeIndex: 284807 entries, 0 to 284806\n",
      "Data columns (total 31 columns):\n",
      " #   Column  Non-Null Count   Dtype  \n",
      "---  ------  --------------   -----  \n",
      " 0   Time    284807 non-null  float64\n",
      " 1   V1      284807 non-null  float64\n",
      " 2   V2      284807 non-null  float64\n",
      " 3   V3      284807 non-null  float64\n",
      " 4   V4      284807 non-null  float64\n",
      " 5   V5      284807 non-null  float64\n",
      " 6   V6      284807 non-null  float64\n",
      " 7   V7      284807 non-null  float64\n",
      " 8   V8      284807 non-null  float64\n",
      " 9   V9      284807 non-null  float64\n",
      " 10  V10     284807 non-null  float64\n",
      " 11  V11     284807 non-null  float64\n",
      " 12  V12     284807 non-null  float64\n",
      " 13  V13     284807 non-null  float64\n",
      " 14  V14     284807 non-null  float64\n",
      " 15  V15     284807 non-null  float64\n",
      " 16  V16     284807 non-null  float64\n",
      " 17  V17     284807 non-null  float64\n",
      " 18  V18     284807 non-null  float64\n",
      " 19  V19     284807 non-null  float64\n",
      " 20  V20     284807 non-null  float64\n",
      " 21  V21     284807 non-null  float64\n",
      " 22  V22     284807 non-null  float64\n",
      " 23  V23     284807 non-null  float64\n",
      " 24  V24     284807 non-null  float64\n",
      " 25  V25     284807 non-null  float64\n",
      " 26  V26     284807 non-null  float64\n",
      " 27  V27     284807 non-null  float64\n",
      " 28  V28     284807 non-null  float64\n",
      " 29  Amount  284807 non-null  float64\n",
      " 30  Class   284807 non-null  int64  \n",
      "dtypes: float64(30), int64(1)\n",
      "memory usage: 67.4 MB\n"
     ]
    }
   ],
   "source": [
    "df.info()"
   ]
  },
  {
   "cell_type": "code",
   "execution_count": 7,
   "metadata": {},
   "outputs": [
    {
     "data": {
      "text/plain": [
       "0    284315\n",
       "1       492\n",
       "Name: Class, dtype: int64"
      ]
     },
     "execution_count": 7,
     "metadata": {},
     "output_type": "execute_result"
    }
   ],
   "source": [
    "df['Class'].value_counts()"
   ]
  },
  {
   "cell_type": "code",
   "execution_count": 9,
   "metadata": {},
   "outputs": [
    {
     "data": {
      "text/plain": [
       "<matplotlib.axes._subplots.AxesSubplot at 0x1fa1f3e3148>"
      ]
     },
     "execution_count": 9,
     "metadata": {},
     "output_type": "execute_result"
    },
    {
     "data": {
      "image/png": "[encoded data removed]",
      "text/plain": [
       "<Figure size 864x432 with 1 Axes>"
      ]
     },
     "metadata": {
      "needs_background": "light"
     },
     "output_type": "display_data"
    }
   ],
   "source": [
    "import warnings as wr \n",
    "wr.filterwarnings('ignore')\n",
    "import matplotlib.pyplot as plt\n",
    "import seaborn as sns\n",
    "plt.figure(figsize=(12,6))\n",
    "sns.countplot(df['Class'])"
   ]
  },
  {
   "cell_type": "code",
   "execution_count": 10,
   "metadata": {},
   "outputs": [],
   "source": [
    "non_fraud=df[df['Class']==0]\n",
    "fraud=df[df['Class']==1]"
   ]
  },
  {
   "cell_type": "code",
   "execution_count": 13,
   "metadata": {},
   "outputs": [
    {
     "data": {
      "text/plain": [
       "((284315, 31), (492, 31))"
      ]
     },
     "execution_count": 13,
     "metadata": {},
     "output_type": "execute_result"
    }
   ],
   "source": [
    "non_fraud.shape,fraud.shape"
   ]
  },
  {
   "cell_type": "code",
   "execution_count": 17,
   "metadata": {},
   "outputs": [
    {
     "data": {
      "text/html": [
       "<div>\n",
       "<style scoped>\n",
       "    .dataframe tbody tr th:only-of-type {\n",
       "        vertical-align: middle;\n",
       "    }\n",
       "\n",
       "    .dataframe tbody tr th {\n",
       "        vertical-align: top;\n",
       "    }\n",
       "\n",
       "    .dataframe thead th {\n",
       "        text-align: right;\n",
       "    }\n",
       "</style>\n",
       "<table border=\"1\" class=\"dataframe\">\n",
       "  <thead>\n",
       "    <tr style=\"text-align: right;\">\n",
       "      <th></th>\n",
       "      <th>Time</th>\n",
       "      <th>V1</th>\n",
       "      <th>V2</th>\n",
       "      <th>V3</th>\n",
       "      <th>V4</th>\n",
       "      <th>V5</th>\n",
       "      <th>V6</th>\n",
       "      <th>V7</th>\n",
       "      <th>V8</th>\n",
       "      <th>V9</th>\n",
       "      <th>...</th>\n",
       "      <th>V21</th>\n",
       "      <th>V22</th>\n",
       "      <th>V23</th>\n",
       "      <th>V24</th>\n",
       "      <th>V25</th>\n",
       "      <th>V26</th>\n",
       "      <th>V27</th>\n",
       "      <th>V28</th>\n",
       "      <th>Amount</th>\n",
       "      <th>Class</th>\n",
       "    </tr>\n",
       "  </thead>\n",
       "  <tbody>\n",
       "    <tr>\n",
       "      <th>68169</th>\n",
       "      <td>52865.0</td>\n",
       "      <td>1.150810</td>\n",
       "      <td>-0.087164</td>\n",
       "      <td>1.272282</td>\n",
       "      <td>1.353043</td>\n",
       "      <td>-1.054827</td>\n",
       "      <td>-0.226353</td>\n",
       "      <td>-0.609509</td>\n",
       "      <td>0.132040</td>\n",
       "      <td>1.006103</td>\n",
       "      <td>...</td>\n",
       "      <td>-0.070527</td>\n",
       "      <td>-0.034249</td>\n",
       "      <td>0.003838</td>\n",
       "      <td>0.362632</td>\n",
       "      <td>0.388630</td>\n",
       "      <td>-0.406230</td>\n",
       "      <td>0.067508</td>\n",
       "      <td>0.036709</td>\n",
       "      <td>9.99</td>\n",
       "      <td>0</td>\n",
       "    </tr>\n",
       "    <tr>\n",
       "      <th>173182</th>\n",
       "      <td>121378.0</td>\n",
       "      <td>1.985636</td>\n",
       "      <td>-0.155736</td>\n",
       "      <td>-1.679648</td>\n",
       "      <td>0.373507</td>\n",
       "      <td>0.370316</td>\n",
       "      <td>-0.234064</td>\n",
       "      <td>-0.168658</td>\n",
       "      <td>-0.065338</td>\n",
       "      <td>0.842703</td>\n",
       "      <td>...</td>\n",
       "      <td>-0.090250</td>\n",
       "      <td>-0.205003</td>\n",
       "      <td>0.110374</td>\n",
       "      <td>-0.048089</td>\n",
       "      <td>-0.155671</td>\n",
       "      <td>0.451717</td>\n",
       "      <td>-0.043566</td>\n",
       "      <td>-0.019533</td>\n",
       "      <td>50.00</td>\n",
       "      <td>0</td>\n",
       "    </tr>\n",
       "    <tr>\n",
       "      <th>175348</th>\n",
       "      <td>122292.0</td>\n",
       "      <td>-0.881493</td>\n",
       "      <td>0.327654</td>\n",
       "      <td>2.148261</td>\n",
       "      <td>-1.172474</td>\n",
       "      <td>0.571878</td>\n",
       "      <td>-0.101243</td>\n",
       "      <td>0.502490</td>\n",
       "      <td>-0.005394</td>\n",
       "      <td>0.210775</td>\n",
       "      <td>...</td>\n",
       "      <td>0.275340</td>\n",
       "      <td>0.951304</td>\n",
       "      <td>-0.631496</td>\n",
       "      <td>-0.302657</td>\n",
       "      <td>0.838330</td>\n",
       "      <td>-0.128640</td>\n",
       "      <td>-0.129587</td>\n",
       "      <td>-0.175142</td>\n",
       "      <td>5.84</td>\n",
       "      <td>0</td>\n",
       "    </tr>\n",
       "    <tr>\n",
       "      <th>163192</th>\n",
       "      <td>115733.0</td>\n",
       "      <td>2.184382</td>\n",
       "      <td>-1.510631</td>\n",
       "      <td>-1.061898</td>\n",
       "      <td>-1.637719</td>\n",
       "      <td>-1.139437</td>\n",
       "      <td>-0.371079</td>\n",
       "      <td>-1.101685</td>\n",
       "      <td>-0.070473</td>\n",
       "      <td>-1.475787</td>\n",
       "      <td>...</td>\n",
       "      <td>-0.098272</td>\n",
       "      <td>0.065533</td>\n",
       "      <td>0.223878</td>\n",
       "      <td>0.741204</td>\n",
       "      <td>-0.208124</td>\n",
       "      <td>-0.220295</td>\n",
       "      <td>-0.009370</td>\n",
       "      <td>-0.047387</td>\n",
       "      <td>56.66</td>\n",
       "      <td>0</td>\n",
       "    </tr>\n",
       "    <tr>\n",
       "      <th>226628</th>\n",
       "      <td>144724.0</td>\n",
       "      <td>-1.546927</td>\n",
       "      <td>0.166883</td>\n",
       "      <td>0.263978</td>\n",
       "      <td>-0.079107</td>\n",
       "      <td>2.973322</td>\n",
       "      <td>-1.769382</td>\n",
       "      <td>1.144760</td>\n",
       "      <td>-0.316619</td>\n",
       "      <td>-1.211042</td>\n",
       "      <td>...</td>\n",
       "      <td>0.235687</td>\n",
       "      <td>0.293410</td>\n",
       "      <td>-0.576729</td>\n",
       "      <td>-0.636484</td>\n",
       "      <td>1.598714</td>\n",
       "      <td>-0.337192</td>\n",
       "      <td>-0.071552</td>\n",
       "      <td>0.048514</td>\n",
       "      <td>2.00</td>\n",
       "      <td>0</td>\n",
       "    </tr>\n",
       "    <tr>\n",
       "      <th>...</th>\n",
       "      <td>...</td>\n",
       "      <td>...</td>\n",
       "      <td>...</td>\n",
       "      <td>...</td>\n",
       "      <td>...</td>\n",
       "      <td>...</td>\n",
       "      <td>...</td>\n",
       "      <td>...</td>\n",
       "      <td>...</td>\n",
       "      <td>...</td>\n",
       "      <td>...</td>\n",
       "      <td>...</td>\n",
       "      <td>...</td>\n",
       "      <td>...</td>\n",
       "      <td>...</td>\n",
       "      <td>...</td>\n",
       "      <td>...</td>\n",
       "      <td>...</td>\n",
       "      <td>...</td>\n",
       "      <td>...</td>\n",
       "      <td>...</td>\n",
       "    </tr>\n",
       "    <tr>\n",
       "      <th>144374</th>\n",
       "      <td>86072.0</td>\n",
       "      <td>-1.222208</td>\n",
       "      <td>-1.079052</td>\n",
       "      <td>-1.188102</td>\n",
       "      <td>2.478048</td>\n",
       "      <td>1.472813</td>\n",
       "      <td>4.807976</td>\n",
       "      <td>-0.552632</td>\n",
       "      <td>-1.879795</td>\n",
       "      <td>-1.844786</td>\n",
       "      <td>...</td>\n",
       "      <td>-1.076483</td>\n",
       "      <td>-0.867124</td>\n",
       "      <td>-0.590150</td>\n",
       "      <td>1.002750</td>\n",
       "      <td>0.460010</td>\n",
       "      <td>0.042277</td>\n",
       "      <td>-0.041296</td>\n",
       "      <td>0.359816</td>\n",
       "      <td>705.35</td>\n",
       "      <td>0</td>\n",
       "    </tr>\n",
       "    <tr>\n",
       "      <th>178459</th>\n",
       "      <td>123633.0</td>\n",
       "      <td>-0.809640</td>\n",
       "      <td>0.371254</td>\n",
       "      <td>0.097805</td>\n",
       "      <td>-0.477265</td>\n",
       "      <td>0.252787</td>\n",
       "      <td>-0.867459</td>\n",
       "      <td>1.579549</td>\n",
       "      <td>-0.149077</td>\n",
       "      <td>0.156742</td>\n",
       "      <td>...</td>\n",
       "      <td>-0.081203</td>\n",
       "      <td>-0.474715</td>\n",
       "      <td>0.206414</td>\n",
       "      <td>-0.193423</td>\n",
       "      <td>0.098982</td>\n",
       "      <td>-0.086995</td>\n",
       "      <td>0.035195</td>\n",
       "      <td>0.172033</td>\n",
       "      <td>191.21</td>\n",
       "      <td>0</td>\n",
       "    </tr>\n",
       "    <tr>\n",
       "      <th>40282</th>\n",
       "      <td>40172.0</td>\n",
       "      <td>1.175131</td>\n",
       "      <td>-1.024843</td>\n",
       "      <td>0.947213</td>\n",
       "      <td>-0.693419</td>\n",
       "      <td>-1.227897</td>\n",
       "      <td>0.519901</td>\n",
       "      <td>-1.219507</td>\n",
       "      <td>0.268884</td>\n",
       "      <td>-0.424666</td>\n",
       "      <td>...</td>\n",
       "      <td>0.408867</td>\n",
       "      <td>1.140311</td>\n",
       "      <td>-0.187477</td>\n",
       "      <td>-0.225674</td>\n",
       "      <td>0.393002</td>\n",
       "      <td>-0.022581</td>\n",
       "      <td>0.053882</td>\n",
       "      <td>0.020678</td>\n",
       "      <td>72.00</td>\n",
       "      <td>0</td>\n",
       "    </tr>\n",
       "    <tr>\n",
       "      <th>160554</th>\n",
       "      <td>113454.0</td>\n",
       "      <td>-0.554176</td>\n",
       "      <td>0.211572</td>\n",
       "      <td>-0.889387</td>\n",
       "      <td>-1.847511</td>\n",
       "      <td>3.522009</td>\n",
       "      <td>3.083584</td>\n",
       "      <td>0.254988</td>\n",
       "      <td>0.855140</td>\n",
       "      <td>-0.263356</td>\n",
       "      <td>...</td>\n",
       "      <td>0.386225</td>\n",
       "      <td>0.966072</td>\n",
       "      <td>-0.315874</td>\n",
       "      <td>0.725261</td>\n",
       "      <td>0.272669</td>\n",
       "      <td>-0.442016</td>\n",
       "      <td>0.158529</td>\n",
       "      <td>0.153214</td>\n",
       "      <td>1.00</td>\n",
       "      <td>0</td>\n",
       "    </tr>\n",
       "    <tr>\n",
       "      <th>179573</th>\n",
       "      <td>124141.0</td>\n",
       "      <td>-0.103377</td>\n",
       "      <td>0.667460</td>\n",
       "      <td>0.336112</td>\n",
       "      <td>-0.856269</td>\n",
       "      <td>0.234658</td>\n",
       "      <td>-0.169726</td>\n",
       "      <td>0.088233</td>\n",
       "      <td>0.319189</td>\n",
       "      <td>0.718132</td>\n",
       "      <td>...</td>\n",
       "      <td>-0.187985</td>\n",
       "      <td>-0.503209</td>\n",
       "      <td>0.169729</td>\n",
       "      <td>0.530095</td>\n",
       "      <td>-0.737572</td>\n",
       "      <td>-0.397883</td>\n",
       "      <td>0.162459</td>\n",
       "      <td>0.097657</td>\n",
       "      <td>3.70</td>\n",
       "      <td>0</td>\n",
       "    </tr>\n",
       "  </tbody>\n",
       "</table>\n",
       "<p>492 rows × 31 columns</p>\n",
       "</div>"
      ],
      "text/plain": [
       "            Time        V1        V2        V3        V4        V5        V6  \\\n",
       "68169    52865.0  1.150810 -0.087164  1.272282  1.353043 -1.054827 -0.226353   \n",
       "173182  121378.0  1.985636 -0.155736 -1.679648  0.373507  0.370316 -0.234064   \n",
       "175348  122292.0 -0.881493  0.327654  2.148261 -1.172474  0.571878 -0.101243   \n",
       "163192  115733.0  2.184382 -1.510631 -1.061898 -1.637719 -1.139437 -0.371079   \n",
       "226628  144724.0 -1.546927  0.166883  0.263978 -0.079107  2.973322 -1.769382   \n",
       "...          ...       ...       ...       ...       ...       ...       ...   \n",
       "144374   86072.0 -1.222208 -1.079052 -1.188102  2.478048  1.472813  4.807976   \n",
       "178459  123633.0 -0.809640  0.371254  0.097805 -0.477265  0.252787 -0.867459   \n",
       "40282    40172.0  1.175131 -1.024843  0.947213 -0.693419 -1.227897  0.519901   \n",
       "160554  113454.0 -0.554176  0.211572 -0.889387 -1.847511  3.522009  3.083584   \n",
       "179573  124141.0 -0.103377  0.667460  0.336112 -0.856269  0.234658 -0.169726   \n",
       "\n",
       "              V7        V8        V9  ...       V21       V22       V23  \\\n",
       "68169  -0.609509  0.132040  1.006103  ... -0.070527 -0.034249  0.003838   \n",
       "173182 -0.168658 -0.065338  0.842703  ... -0.090250 -0.205003  0.110374   \n",
       "175348  0.502490 -0.005394  0.210775  ...  0.275340  0.951304 -0.631496   \n",
       "163192 -1.101685 -0.070473 -1.475787  ... -0.098272  0.065533  0.223878   \n",
       "226628  1.144760 -0.316619 -1.211042  ...  0.235687  0.293410 -0.576729   \n",
       "...          ...       ...       ...  ...       ...       ...       ...   \n",
       "144374 -0.552632 -1.879795 -1.844786  ... -1.076483 -0.867124 -0.590150   \n",
       "178459  1.579549 -0.149077  0.156742  ... -0.081203 -0.474715  0.206414   \n",
       "40282  -1.219507  0.268884 -0.424666  ...  0.408867  1.140311 -0.187477   \n",
       "160554  0.254988  0.855140 -0.263356  ...  0.386225  0.966072 -0.315874   \n",
       "179573  0.088233  0.319189  0.718132  ... -0.187985 -0.503209  0.169729   \n",
       "\n",
       "             V24       V25       V26       V27       V28  Amount  Class  \n",
       "68169   0.362632  0.388630 -0.406230  0.067508  0.036709    9.99      0  \n",
       "173182 -0.048089 -0.155671  0.451717 -0.043566 -0.019533   50.00      0  \n",
       "175348 -0.302657  0.838330 -0.128640 -0.129587 -0.175142    5.84      0  \n",
       "163192  0.741204 -0.208124 -0.220295 -0.009370 -0.047387   56.66      0  \n",
       "226628 -0.636484  1.598714 -0.337192 -0.071552  0.048514    2.00      0  \n",
       "...          ...       ...       ...       ...       ...     ...    ...  \n",
       "144374  1.002750  0.460010  0.042277 -0.041296  0.359816  705.35      0  \n",
       "178459 -0.193423  0.098982 -0.086995  0.035195  0.172033  191.21      0  \n",
       "40282  -0.225674  0.393002 -0.022581  0.053882  0.020678   72.00      0  \n",
       "160554  0.725261  0.272669 -0.442016  0.158529  0.153214    1.00      0  \n",
       "179573  0.530095 -0.737572 -0.397883  0.162459  0.097657    3.70      0  \n",
       "\n",
       "[492 rows x 31 columns]"
      ]
     },
     "execution_count": 17,
     "metadata": {},
     "output_type": "execute_result"
    }
   ],
   "source": [
    "non_fraud=non_fraud.sample(fraud.shape[0])\n",
    "non_fraud"
   ]
  },
  {
   "cell_type": "code",
   "execution_count": 18,
   "metadata": {},
   "outputs": [],
   "source": [
    "data=fraud.append(non_fraud,ignore_index=True)"
   ]
  },
  {
   "cell_type": "code",
   "execution_count": 19,
   "metadata": {},
   "outputs": [
    {
     "data": {
      "text/html": [
       "<div>\n",
       "<style scoped>\n",
       "    .dataframe tbody tr th:only-of-type {\n",
       "        vertical-align: middle;\n",
       "    }\n",
       "\n",
       "    .dataframe tbody tr th {\n",
       "        vertical-align: top;\n",
       "    }\n",
       "\n",
       "    .dataframe thead th {\n",
       "        text-align: right;\n",
       "    }\n",
       "</style>\n",
       "<table border=\"1\" class=\"dataframe\">\n",
       "  <thead>\n",
       "    <tr style=\"text-align: right;\">\n",
       "      <th></th>\n",
       "      <th>Time</th>\n",
       "      <th>V1</th>\n",
       "      <th>V2</th>\n",
       "      <th>V3</th>\n",
       "      <th>V4</th>\n",
       "      <th>V5</th>\n",
       "      <th>V6</th>\n",
       "      <th>V7</th>\n",
       "      <th>V8</th>\n",
       "      <th>V9</th>\n",
       "      <th>...</th>\n",
       "      <th>V21</th>\n",
       "      <th>V22</th>\n",
       "      <th>V23</th>\n",
       "      <th>V24</th>\n",
       "      <th>V25</th>\n",
       "      <th>V26</th>\n",
       "      <th>V27</th>\n",
       "      <th>V28</th>\n",
       "      <th>Amount</th>\n",
       "      <th>Class</th>\n",
       "    </tr>\n",
       "  </thead>\n",
       "  <tbody>\n",
       "    <tr>\n",
       "      <th>0</th>\n",
       "      <td>406.0</td>\n",
       "      <td>-2.312227</td>\n",
       "      <td>1.951992</td>\n",
       "      <td>-1.609851</td>\n",
       "      <td>3.997906</td>\n",
       "      <td>-0.522188</td>\n",
       "      <td>-1.426545</td>\n",
       "      <td>-2.537387</td>\n",
       "      <td>1.391657</td>\n",
       "      <td>-2.770089</td>\n",
       "      <td>...</td>\n",
       "      <td>0.517232</td>\n",
       "      <td>-0.035049</td>\n",
       "      <td>-0.465211</td>\n",
       "      <td>0.320198</td>\n",
       "      <td>0.044519</td>\n",
       "      <td>0.177840</td>\n",
       "      <td>0.261145</td>\n",
       "      <td>-0.143276</td>\n",
       "      <td>0.00</td>\n",
       "      <td>1</td>\n",
       "    </tr>\n",
       "    <tr>\n",
       "      <th>1</th>\n",
       "      <td>472.0</td>\n",
       "      <td>-3.043541</td>\n",
       "      <td>-3.157307</td>\n",
       "      <td>1.088463</td>\n",
       "      <td>2.288644</td>\n",
       "      <td>1.359805</td>\n",
       "      <td>-1.064823</td>\n",
       "      <td>0.325574</td>\n",
       "      <td>-0.067794</td>\n",
       "      <td>-0.270953</td>\n",
       "      <td>...</td>\n",
       "      <td>0.661696</td>\n",
       "      <td>0.435477</td>\n",
       "      <td>1.375966</td>\n",
       "      <td>-0.293803</td>\n",
       "      <td>0.279798</td>\n",
       "      <td>-0.145362</td>\n",
       "      <td>-0.252773</td>\n",
       "      <td>0.035764</td>\n",
       "      <td>529.00</td>\n",
       "      <td>1</td>\n",
       "    </tr>\n",
       "    <tr>\n",
       "      <th>2</th>\n",
       "      <td>4462.0</td>\n",
       "      <td>-2.303350</td>\n",
       "      <td>1.759247</td>\n",
       "      <td>-0.359745</td>\n",
       "      <td>2.330243</td>\n",
       "      <td>-0.821628</td>\n",
       "      <td>-0.075788</td>\n",
       "      <td>0.562320</td>\n",
       "      <td>-0.399147</td>\n",
       "      <td>-0.238253</td>\n",
       "      <td>...</td>\n",
       "      <td>-0.294166</td>\n",
       "      <td>-0.932391</td>\n",
       "      <td>0.172726</td>\n",
       "      <td>-0.087330</td>\n",
       "      <td>-0.156114</td>\n",
       "      <td>-0.542628</td>\n",
       "      <td>0.039566</td>\n",
       "      <td>-0.153029</td>\n",
       "      <td>239.93</td>\n",
       "      <td>1</td>\n",
       "    </tr>\n",
       "    <tr>\n",
       "      <th>3</th>\n",
       "      <td>6986.0</td>\n",
       "      <td>-4.397974</td>\n",
       "      <td>1.358367</td>\n",
       "      <td>-2.592844</td>\n",
       "      <td>2.679787</td>\n",
       "      <td>-1.128131</td>\n",
       "      <td>-1.706536</td>\n",
       "      <td>-3.496197</td>\n",
       "      <td>-0.248778</td>\n",
       "      <td>-0.247768</td>\n",
       "      <td>...</td>\n",
       "      <td>0.573574</td>\n",
       "      <td>0.176968</td>\n",
       "      <td>-0.436207</td>\n",
       "      <td>-0.053502</td>\n",
       "      <td>0.252405</td>\n",
       "      <td>-0.657488</td>\n",
       "      <td>-0.827136</td>\n",
       "      <td>0.849573</td>\n",
       "      <td>59.00</td>\n",
       "      <td>1</td>\n",
       "    </tr>\n",
       "    <tr>\n",
       "      <th>4</th>\n",
       "      <td>7519.0</td>\n",
       "      <td>1.234235</td>\n",
       "      <td>3.019740</td>\n",
       "      <td>-4.304597</td>\n",
       "      <td>4.732795</td>\n",
       "      <td>3.624201</td>\n",
       "      <td>-1.357746</td>\n",
       "      <td>1.713445</td>\n",
       "      <td>-0.496358</td>\n",
       "      <td>-1.282858</td>\n",
       "      <td>...</td>\n",
       "      <td>-0.379068</td>\n",
       "      <td>-0.704181</td>\n",
       "      <td>-0.656805</td>\n",
       "      <td>-1.632653</td>\n",
       "      <td>1.488901</td>\n",
       "      <td>0.566797</td>\n",
       "      <td>-0.010016</td>\n",
       "      <td>0.146793</td>\n",
       "      <td>1.00</td>\n",
       "      <td>1</td>\n",
       "    </tr>\n",
       "    <tr>\n",
       "      <th>...</th>\n",
       "      <td>...</td>\n",
       "      <td>...</td>\n",
       "      <td>...</td>\n",
       "      <td>...</td>\n",
       "      <td>...</td>\n",
       "      <td>...</td>\n",
       "      <td>...</td>\n",
       "      <td>...</td>\n",
       "      <td>...</td>\n",
       "      <td>...</td>\n",
       "      <td>...</td>\n",
       "      <td>...</td>\n",
       "      <td>...</td>\n",
       "      <td>...</td>\n",
       "      <td>...</td>\n",
       "      <td>...</td>\n",
       "      <td>...</td>\n",
       "      <td>...</td>\n",
       "      <td>...</td>\n",
       "      <td>...</td>\n",
       "      <td>...</td>\n",
       "    </tr>\n",
       "    <tr>\n",
       "      <th>979</th>\n",
       "      <td>86072.0</td>\n",
       "      <td>-1.222208</td>\n",
       "      <td>-1.079052</td>\n",
       "      <td>-1.188102</td>\n",
       "      <td>2.478048</td>\n",
       "      <td>1.472813</td>\n",
       "      <td>4.807976</td>\n",
       "      <td>-0.552632</td>\n",
       "      <td>-1.879795</td>\n",
       "      <td>-1.844786</td>\n",
       "      <td>...</td>\n",
       "      <td>-1.076483</td>\n",
       "      <td>-0.867124</td>\n",
       "      <td>-0.590150</td>\n",
       "      <td>1.002750</td>\n",
       "      <td>0.460010</td>\n",
       "      <td>0.042277</td>\n",
       "      <td>-0.041296</td>\n",
       "      <td>0.359816</td>\n",
       "      <td>705.35</td>\n",
       "      <td>0</td>\n",
       "    </tr>\n",
       "    <tr>\n",
       "      <th>980</th>\n",
       "      <td>123633.0</td>\n",
       "      <td>-0.809640</td>\n",
       "      <td>0.371254</td>\n",
       "      <td>0.097805</td>\n",
       "      <td>-0.477265</td>\n",
       "      <td>0.252787</td>\n",
       "      <td>-0.867459</td>\n",
       "      <td>1.579549</td>\n",
       "      <td>-0.149077</td>\n",
       "      <td>0.156742</td>\n",
       "      <td>...</td>\n",
       "      <td>-0.081203</td>\n",
       "      <td>-0.474715</td>\n",
       "      <td>0.206414</td>\n",
       "      <td>-0.193423</td>\n",
       "      <td>0.098982</td>\n",
       "      <td>-0.086995</td>\n",
       "      <td>0.035195</td>\n",
       "      <td>0.172033</td>\n",
       "      <td>191.21</td>\n",
       "      <td>0</td>\n",
       "    </tr>\n",
       "    <tr>\n",
       "      <th>981</th>\n",
       "      <td>40172.0</td>\n",
       "      <td>1.175131</td>\n",
       "      <td>-1.024843</td>\n",
       "      <td>0.947213</td>\n",
       "      <td>-0.693419</td>\n",
       "      <td>-1.227897</td>\n",
       "      <td>0.519901</td>\n",
       "      <td>-1.219507</td>\n",
       "      <td>0.268884</td>\n",
       "      <td>-0.424666</td>\n",
       "      <td>...</td>\n",
       "      <td>0.408867</td>\n",
       "      <td>1.140311</td>\n",
       "      <td>-0.187477</td>\n",
       "      <td>-0.225674</td>\n",
       "      <td>0.393002</td>\n",
       "      <td>-0.022581</td>\n",
       "      <td>0.053882</td>\n",
       "      <td>0.020678</td>\n",
       "      <td>72.00</td>\n",
       "      <td>0</td>\n",
       "    </tr>\n",
       "    <tr>\n",
       "      <th>982</th>\n",
       "      <td>113454.0</td>\n",
       "      <td>-0.554176</td>\n",
       "      <td>0.211572</td>\n",
       "      <td>-0.889387</td>\n",
       "      <td>-1.847511</td>\n",
       "      <td>3.522009</td>\n",
       "      <td>3.083584</td>\n",
       "      <td>0.254988</td>\n",
       "      <td>0.855140</td>\n",
       "      <td>-0.263356</td>\n",
       "      <td>...</td>\n",
       "      <td>0.386225</td>\n",
       "      <td>0.966072</td>\n",
       "      <td>-0.315874</td>\n",
       "      <td>0.725261</td>\n",
       "      <td>0.272669</td>\n",
       "      <td>-0.442016</td>\n",
       "      <td>0.158529</td>\n",
       "      <td>0.153214</td>\n",
       "      <td>1.00</td>\n",
       "      <td>0</td>\n",
       "    </tr>\n",
       "    <tr>\n",
       "      <th>983</th>\n",
       "      <td>124141.0</td>\n",
       "      <td>-0.103377</td>\n",
       "      <td>0.667460</td>\n",
       "      <td>0.336112</td>\n",
       "      <td>-0.856269</td>\n",
       "      <td>0.234658</td>\n",
       "      <td>-0.169726</td>\n",
       "      <td>0.088233</td>\n",
       "      <td>0.319189</td>\n",
       "      <td>0.718132</td>\n",
       "      <td>...</td>\n",
       "      <td>-0.187985</td>\n",
       "      <td>-0.503209</td>\n",
       "      <td>0.169729</td>\n",
       "      <td>0.530095</td>\n",
       "      <td>-0.737572</td>\n",
       "      <td>-0.397883</td>\n",
       "      <td>0.162459</td>\n",
       "      <td>0.097657</td>\n",
       "      <td>3.70</td>\n",
       "      <td>0</td>\n",
       "    </tr>\n",
       "  </tbody>\n",
       "</table>\n",
       "<p>984 rows × 31 columns</p>\n",
       "</div>"
      ],
      "text/plain": [
       "         Time        V1        V2        V3        V4        V5        V6  \\\n",
       "0       406.0 -2.312227  1.951992 -1.609851  3.997906 -0.522188 -1.426545   \n",
       "1       472.0 -3.043541 -3.157307  1.088463  2.288644  1.359805 -1.064823   \n",
       "2      4462.0 -2.303350  1.759247 -0.359745  2.330243 -0.821628 -0.075788   \n",
       "3      6986.0 -4.397974  1.358367 -2.592844  2.679787 -1.128131 -1.706536   \n",
       "4      7519.0  1.234235  3.019740 -4.304597  4.732795  3.624201 -1.357746   \n",
       "..        ...       ...       ...       ...       ...       ...       ...   \n",
       "979   86072.0 -1.222208 -1.079052 -1.188102  2.478048  1.472813  4.807976   \n",
       "980  123633.0 -0.809640  0.371254  0.097805 -0.477265  0.252787 -0.867459   \n",
       "981   40172.0  1.175131 -1.024843  0.947213 -0.693419 -1.227897  0.519901   \n",
       "982  113454.0 -0.554176  0.211572 -0.889387 -1.847511  3.522009  3.083584   \n",
       "983  124141.0 -0.103377  0.667460  0.336112 -0.856269  0.234658 -0.169726   \n",
       "\n",
       "           V7        V8        V9  ...       V21       V22       V23  \\\n",
       "0   -2.537387  1.391657 -2.770089  ...  0.517232 -0.035049 -0.465211   \n",
       "1    0.325574 -0.067794 -0.270953  ...  0.661696  0.435477  1.375966   \n",
       "2    0.562320 -0.399147 -0.238253  ... -0.294166 -0.932391  0.172726   \n",
       "3   -3.496197 -0.248778 -0.247768  ...  0.573574  0.176968 -0.436207   \n",
       "4    1.713445 -0.496358 -1.282858  ... -0.379068 -0.704181 -0.656805   \n",
       "..        ...       ...       ...  ...       ...       ...       ...   \n",
       "979 -0.552632 -1.879795 -1.844786  ... -1.076483 -0.867124 -0.590150   \n",
       "980  1.579549 -0.149077  0.156742  ... -0.081203 -0.474715  0.206414   \n",
       "981 -1.219507  0.268884 -0.424666  ...  0.408867  1.140311 -0.187477   \n",
       "982  0.254988  0.855140 -0.263356  ...  0.386225  0.966072 -0.315874   \n",
       "983  0.088233  0.319189  0.718132  ... -0.187985 -0.503209  0.169729   \n",
       "\n",
       "          V24       V25       V26       V27       V28  Amount  Class  \n",
       "0    0.320198  0.044519  0.177840  0.261145 -0.143276    0.00      1  \n",
       "1   -0.293803  0.279798 -0.145362 -0.252773  0.035764  529.00      1  \n",
       "2   -0.087330 -0.156114 -0.542628  0.039566 -0.153029  239.93      1  \n",
       "3   -0.053502  0.252405 -0.657488 -0.827136  0.849573   59.00      1  \n",
       "4   -1.632653  1.488901  0.566797 -0.010016  0.146793    1.00      1  \n",
       "..        ...       ...       ...       ...       ...     ...    ...  \n",
       "979  1.002750  0.460010  0.042277 -0.041296  0.359816  705.35      0  \n",
       "980 -0.193423  0.098982 -0.086995  0.035195  0.172033  191.21      0  \n",
       "981 -0.225674  0.393002 -0.022581  0.053882  0.020678   72.00      0  \n",
       "982  0.725261  0.272669 -0.442016  0.158529  0.153214    1.00      0  \n",
       "983  0.530095 -0.737572 -0.397883  0.162459  0.097657    3.70      0  \n",
       "\n",
       "[984 rows x 31 columns]"
      ]
     },
     "execution_count": 19,
     "metadata": {},
     "output_type": "execute_result"
    }
   ],
   "source": [
    "data"
   ]
  },
  {
   "cell_type": "code",
   "execution_count": 22,
   "metadata": {},
   "outputs": [
    {
     "data": {
      "text/plain": [
       "1    492\n",
       "0    492\n",
       "Name: Class, dtype: int64"
      ]
     },
     "execution_count": 22,
     "metadata": {},
     "output_type": "execute_result"
    }
   ],
   "source": [
    "data['Class'].value_counts()"
   ]
  },
  {
   "cell_type": "code",
   "execution_count": 37,
   "metadata": {},
   "outputs": [],
   "source": [
    "X=data.drop('Class',axis=1)\n",
    "y=data['Class']"
   ]
  },
  {
   "cell_type": "code",
   "execution_count": 40,
   "metadata": {},
   "outputs": [
    {
     "data": {
      "text/plain": [
       "((984, 30), (984,))"
      ]
     },
     "execution_count": 40,
     "metadata": {},
     "output_type": "execute_result"
    }
   ],
   "source": [
    "X.shape,y.shape"
   ]
  },
  {
   "cell_type": "code",
   "execution_count": 41,
   "metadata": {},
   "outputs": [
    {
     "data": {
      "text/plain": [
       "<matplotlib.axes._subplots.AxesSubplot at 0x1fa2ba612c8>"
      ]
     },
     "execution_count": 41,
     "metadata": {},
     "output_type": "execute_result"
    },
    {
     "data": {
      "image/png": "[encoded data removed]",
      "text/plain": [
       "<Figure size 864x432 with 1 Axes>"
      ]
     },
     "metadata": {
      "needs_background": "light"
     },
     "output_type": "display_data"
    }
   ],
   "source": [
    "plt.figure(figsize=(12,6))\n",
    "sns.countplot(data['Class'])"
   ]
  },
  {
   "cell_type": "code",
   "execution_count": 44,
   "metadata": {},
   "outputs": [],
   "source": [
    "X_train,X_test,y_train,y_test=train_test_split(X,y,test_size=0.2,random_state=0,stratify = y)"
   ]
  },
  {
   "cell_type": "code",
   "execution_count": 46,
   "metadata": {},
   "outputs": [
    {
     "data": {
      "text/plain": [
       "((787, 30), (197, 30))"
      ]
     },
     "execution_count": 46,
     "metadata": {},
     "output_type": "execute_result"
    }
   ],
   "source": [
    "X_train.shape,X_test.shape"
   ]
  },
  {
   "cell_type": "code",
   "execution_count": 47,
   "metadata": {},
   "outputs": [],
   "source": [
    "scaler=StandardScaler()\n",
    "X_train=scaler.fit_transform(X_train)\n",
    "X_test=scaler.fit_transform(X_test)"
   ]
  },
  {
   "cell_type": "code",
   "execution_count": 54,
   "metadata": {},
   "outputs": [],
   "source": [
    "y_train=np.array(y_train)\n",
    "y_test=np.array(y_test)"
   ]
  },
  {
   "cell_type": "code",
   "execution_count": 57,
   "metadata": {},
   "outputs": [
    {
     "data": {
      "text/plain": [
       "((787,), (197,))"
      ]
     },
     "execution_count": 57,
     "metadata": {},
     "output_type": "execute_result"
    }
   ],
   "source": [
    "y_train.shape,y_test.shape"
   ]
  },
  {
   "cell_type": "code",
   "execution_count": 55,
   "metadata": {},
   "outputs": [],
   "source": [
    "X_train = X_train.reshape(X_train.shape[0], X_train.shape[1], 1)\n",
    "X_test = X_test.reshape(X_test.shape[0], X_test.shape[1], 1)"
   ]
  },
  {
   "cell_type": "code",
   "execution_count": 60,
   "metadata": {},
   "outputs": [
    {
     "data": {
      "text/plain": [
       "(30, 1)"
      ]
     },
     "execution_count": 60,
     "metadata": {},
     "output_type": "execute_result"
    }
   ],
   "source": [
    "X_train.shape,X_test.shape\n",
    "X_train[0].shape"
   ]
  },
  {
   "cell_type": "markdown",
   "metadata": {},
   "source": [
    "# Build CNN Model"
   ]
  },
  {
   "cell_type": "code",
   "execution_count": 59,
   "metadata": {},
   "outputs": [
    {
     "name": "stdout",
     "output_type": "stream",
     "text": [
      "2.4.1\n"
     ]
    }
   ],
   "source": [
    "import tensorflow as tf \n",
    "from tensorflow import keras\n",
    "from tensorflow.keras import Sequential\n",
    "from tensorflow.keras.layers import Flatten,Dense,Dropout,BatchNormalization\n",
    "from tensorflow.keras.layers import Conv1D,MaxPool1D\n",
    "from tensorflow.keras.optimizers import Adam\n",
    "print(tf.__version__)"
   ]
  },
  {
   "cell_type": "code",
   "execution_count": 67,
   "metadata": {},
   "outputs": [],
   "source": [
    "epochs=20\n",
    "model=Sequential()\n",
    "model.add(Conv1D(32,2,activation='relu',input_shape=X_train[0].shape))\n",
    "model.add(BatchNormalization())\n",
    "model.add(Dropout(0.2))\n",
    "\n",
    "model.add(Conv1D(64,2,activation='relu'))\n",
    "model.add(BatchNormalization())\n",
    "model.add(Dropout(0.2))\n",
    "\n",
    "model.add(Flatten())\n",
    "model.add(Dense(64,activation='relu'))\n",
    "model.add(Dropout(0.2))\n",
    "\n",
    "model.add(Dense(1,activation='sigmoid'))"
   ]
  },
  {
   "cell_type": "code",
   "execution_count": 68,
   "metadata": {},
   "outputs": [
    {
     "name": "stdout",
     "output_type": "stream",
     "text": [
      "Model: \"sequential_2\"\n",
      "_________________________________________________________________\n",
      "Layer (type)                 Output Shape              Param #   \n",
      "=================================================================\n",
      "conv1d_4 (Conv1D)            (None, 29, 32)            96        \n",
      "_________________________________________________________________\n",
      "batch_normalization_3 (Batch (None, 29, 32)            128       \n",
      "_________________________________________________________________\n",
      "dropout_3 (Dropout)          (None, 29, 32)            0         \n",
      "_________________________________________________________________\n",
      "conv1d_5 (Conv1D)            (None, 28, 64)            4160      \n",
      "_________________________________________________________________\n",
      "batch_normalization_4 (Batch (None, 28, 64)            256       \n",
      "_________________________________________________________________\n",
      "dropout_4 (Dropout)          (None, 28, 64)            0         \n",
      "_________________________________________________________________\n",
      "flatten_1 (Flatten)          (None, 1792)              0         \n",
      "_________________________________________________________________\n",
      "dense_1 (Dense)              (None, 64)                114752    \n",
      "_________________________________________________________________\n",
      "dropout_5 (Dropout)          (None, 64)                0         \n",
      "_________________________________________________________________\n",
      "dense_2 (Dense)              (None, 1)                 65        \n",
      "=================================================================\n",
      "Total params: 119,457\n",
      "Trainable params: 119,265\n",
      "Non-trainable params: 192\n",
      "_________________________________________________________________\n"
     ]
    }
   ],
   "source": [
    "model.summary()"
   ]
  },
  {
   "cell_type": "code",
   "execution_count": 70,
   "metadata": {},
   "outputs": [],
   "source": [
    "model.compile(optimizer=Adam(lr=0.0001),loss='binary_crossentropy',metrics=['accuracy'])"
   ]
  },
  {
   "cell_type": "code",
   "execution_count": 72,
   "metadata": {},
   "outputs": [
    {
     "name": "stdout",
     "output_type": "stream",
     "text": [
      "Epoch 1/20\n",
      "25/25 [==============================] - 1s 26ms/step - loss: 0.1159 - accuracy: 0.9568 - val_loss: 0.1984 - val_accuracy: 0.9188\n",
      "Epoch 2/20\n",
      "25/25 [==============================] - 0s 15ms/step - loss: 0.1154 - accuracy: 0.9568 - val_loss: 0.2004 - val_accuracy: 0.9188\n",
      "Epoch 3/20\n",
      "25/25 [==============================] - 0s 18ms/step - loss: 0.1264 - accuracy: 0.9530 - val_loss: 0.1980 - val_accuracy: 0.9239\n",
      "Epoch 4/20\n",
      "25/25 [==============================] - 0s 18ms/step - loss: 0.1228 - accuracy: 0.9543 - val_loss: 0.2001 - val_accuracy: 0.9188\n",
      "Epoch 5/20\n",
      "25/25 [==============================] - 0s 17ms/step - loss: 0.1200 - accuracy: 0.9670 - val_loss: 0.2073 - val_accuracy: 0.9188\n",
      "Epoch 6/20\n",
      "25/25 [==============================] - 0s 18ms/step - loss: 0.1047 - accuracy: 0.9632 - val_loss: 0.2081 - val_accuracy: 0.9188\n",
      "Epoch 7/20\n",
      "25/25 [==============================] - 0s 16ms/step - loss: 0.1065 - accuracy: 0.9543 - val_loss: 0.2078 - val_accuracy: 0.9188\n",
      "Epoch 8/20\n",
      "25/25 [==============================] - ETA: 0s - loss: 0.1180 - accuracy: 0.95 - 0s 17ms/step - loss: 0.1098 - accuracy: 0.9632 - val_loss: 0.2084 - val_accuracy: 0.9188\n",
      "Epoch 9/20\n",
      "25/25 [==============================] - 0s 18ms/step - loss: 0.1062 - accuracy: 0.9644 - val_loss: 0.2129 - val_accuracy: 0.9188\n",
      "Epoch 10/20\n",
      "25/25 [==============================] - 0s 18ms/step - loss: 0.1162 - accuracy: 0.9543 - val_loss: 0.2102 - val_accuracy: 0.9239\n",
      "Epoch 11/20\n",
      "25/25 [==============================] - 0s 18ms/step - loss: 0.1070 - accuracy: 0.9593 - val_loss: 0.2069 - val_accuracy: 0.9239\n",
      "Epoch 12/20\n",
      "25/25 [==============================] - 0s 19ms/step - loss: 0.1155 - accuracy: 0.9619 - val_loss: 0.2075 - val_accuracy: 0.9188\n",
      "Epoch 13/20\n",
      "25/25 [==============================] - 1s 21ms/step - loss: 0.1031 - accuracy: 0.9657 - val_loss: 0.2087 - val_accuracy: 0.9188\n",
      "Epoch 14/20\n",
      "25/25 [==============================] - 0s 13ms/step - loss: 0.1052 - accuracy: 0.9581 - val_loss: 0.2106 - val_accuracy: 0.9289\n",
      "Epoch 15/20\n",
      "25/25 [==============================] - 0s 15ms/step - loss: 0.1015 - accuracy: 0.9670 - val_loss: 0.2140 - val_accuracy: 0.9188\n",
      "Epoch 16/20\n",
      "25/25 [==============================] - 1s 20ms/step - loss: 0.1011 - accuracy: 0.9619 - val_loss: 0.2066 - val_accuracy: 0.9239\n",
      "Epoch 17/20\n",
      "25/25 [==============================] - 0s 16ms/step - loss: 0.0942 - accuracy: 0.9695 - val_loss: 0.2107 - val_accuracy: 0.9239\n",
      "Epoch 18/20\n",
      "25/25 [==============================] - 0s 16ms/step - loss: 0.0951 - accuracy: 0.9682 - val_loss: 0.2139 - val_accuracy: 0.9289\n",
      "Epoch 19/20\n",
      "25/25 [==============================] - 0s 16ms/step - loss: 0.0920 - accuracy: 0.9733 - val_loss: 0.2171 - val_accuracy: 0.9289\n",
      "Epoch 20/20\n",
      "25/25 [==============================] - 1s 22ms/step - loss: 0.1062 - accuracy: 0.9670 - val_loss: 0.2158 - val_accuracy: 0.9289\n"
     ]
    }
   ],
   "source": [
    "history=model.fit(X_train,y_train,epochs=20,validation_data=(X_test, y_test),verbose=1)"
   ]
  },
  {
   "cell_type": "code",
   "execution_count": 73,
   "metadata": {},
   "outputs": [
    {
     "data": {
      "text/plain": [
       "<tensorflow.python.keras.callbacks.History at 0x1fa34ba0ac8>"
      ]
     },
     "execution_count": 73,
     "metadata": {},
     "output_type": "execute_result"
    }
   ],
   "source": [
    "history"
   ]
  },
  {
   "cell_type": "code",
   "execution_count": 80,
   "metadata": {},
   "outputs": [],
   "source": [
    "def plot_learningCurve(history, epoch):\n",
    "  # Plot training & validation accuracy values\n",
    "  epoch_range = range(1, epoch+1)\n",
    "  plt.plot(epoch_range, history.history['accuracy'])\n",
    "  plt.plot(epoch_range, history.history['val_accuracy'])\n",
    "  plt.title('Model accuracy')\n",
    "  plt.ylabel('Accuracy')\n",
    "  plt.xlabel('Epoch')\n",
    "  plt.legend(['Train', 'Val'], loc='upper left')\n",
    "  plt.show()\n",
    "\n",
    "  # Plot training & validation loss values\n",
    "  plt.plot(epoch_range, history.history['loss'])\n",
    "  plt.plot(epoch_range, history.history['val_loss'])\n",
    "  plt.title('Model loss')\n",
    "  plt.ylabel('Loss')\n",
    "  plt.xlabel('Epoch')\n",
    "  plt.legend(['Train', 'Val'], loc='upper left')\n",
    "  plt.show()"
   ]
  },
  {
   "cell_type": "code",
   "execution_count": 81,
   "metadata": {},
   "outputs": [
    {
     "data": {
      "image/png": "[encoded data removed]",
      "text/plain": [
       "<Figure size 432x288 with 1 Axes>"
      ]
     },
     "metadata": {
      "needs_background": "light"
     },
     "output_type": "display_data"
    },
    {
     "data": {
      "image/png": "[encoded data removed]",
      "text/plain": [
       "<Figure size 432x288 with 1 Axes>"
      ]
     },
     "metadata": {
      "needs_background": "light"
     },
     "output_type": "display_data"
    }
   ],
   "source": [
    "plot_learningCurve(history,epochs)"
   ]
  },
  {
   "cell_type": "markdown",
   "metadata": {},
   "source": [
    "# Adding Maxpool Layer"
   ]
  },
  {
   "cell_type": "code",
   "execution_count": 82,
   "metadata": {},
   "outputs": [],
   "source": [
    "epochs=20\n",
    "model=Sequential()\n",
    "model.add(Conv1D(32,2,activation='relu',input_shape=X_train[0].shape))\n",
    "model.add(BatchNormalization())\n",
    "model.add(MaxPool1D(2))\n",
    "model.add(Dropout(0.2))\n",
    "\n",
    "model.add(Conv1D(64,2,activation='relu'))\n",
    "model.add(BatchNormalization())\n",
    "model.add(MaxPool1D(2))\n",
    "model.add(Dropout(0.2))\n",
    "\n",
    "model.add(Flatten())\n",
    "model.add(Dense(64,activation='relu'))\n",
    "model.add(Dropout(0.2))\n",
    "\n",
    "model.add(Dense(1,activation='sigmoid'))"
   ]
  },
  {
   "cell_type": "code",
   "execution_count": 83,
   "metadata": {},
   "outputs": [
    {
     "name": "stdout",
     "output_type": "stream",
     "text": [
      "Epoch 1/20\n",
      "25/25 [==============================] - 1s 13ms/step - loss: 0.7055 - accuracy: 0.6115 - val_loss: 0.6408 - val_accuracy: 0.6904\n",
      "Epoch 2/20\n",
      "25/25 [==============================] - 0s 6ms/step - loss: 0.5389 - accuracy: 0.7333 - val_loss: 0.6194 - val_accuracy: 0.8020\n",
      "Epoch 3/20\n",
      "25/25 [==============================] - 0s 7ms/step - loss: 0.4321 - accuracy: 0.8365 - val_loss: 0.5995 - val_accuracy: 0.8223\n",
      "Epoch 4/20\n",
      "25/25 [==============================] - 0s 6ms/step - loss: 0.3958 - accuracy: 0.8402 - val_loss: 0.5743 - val_accuracy: 0.8325\n",
      "Epoch 5/20\n",
      "25/25 [==============================] - 0s 6ms/step - loss: 0.3126 - accuracy: 0.8741 - val_loss: 0.5485 - val_accuracy: 0.8223\n",
      "Epoch 6/20\n",
      "25/25 [==============================] - 0s 7ms/step - loss: 0.3270 - accuracy: 0.8736 - val_loss: 0.5197 - val_accuracy: 0.8274\n",
      "Epoch 7/20\n",
      "25/25 [==============================] - 0s 6ms/step - loss: 0.2847 - accuracy: 0.9147 - val_loss: 0.4872 - val_accuracy: 0.8376\n",
      "Epoch 8/20\n",
      "25/25 [==============================] - 0s 6ms/step - loss: 0.2786 - accuracy: 0.9041 - val_loss: 0.4516 - val_accuracy: 0.8376\n",
      "Epoch 9/20\n",
      "25/25 [==============================] - 0s 6ms/step - loss: 0.2690 - accuracy: 0.8967 - val_loss: 0.4220 - val_accuracy: 0.8579\n",
      "Epoch 10/20\n",
      "25/25 [==============================] - 0s 7ms/step - loss: 0.2262 - accuracy: 0.9140 - val_loss: 0.3903 - val_accuracy: 0.8731\n",
      "Epoch 11/20\n",
      "25/25 [==============================] - 0s 7ms/step - loss: 0.2303 - accuracy: 0.9178 - val_loss: 0.3623 - val_accuracy: 0.8782\n",
      "Epoch 12/20\n",
      "25/25 [==============================] - 0s 6ms/step - loss: 0.2798 - accuracy: 0.9048 - val_loss: 0.3379 - val_accuracy: 0.8832\n",
      "Epoch 13/20\n",
      "25/25 [==============================] - 0s 6ms/step - loss: 0.2198 - accuracy: 0.9166 - val_loss: 0.3155 - val_accuracy: 0.8883\n",
      "Epoch 14/20\n",
      "25/25 [==============================] - 0s 6ms/step - loss: 0.2418 - accuracy: 0.9088 - val_loss: 0.2969 - val_accuracy: 0.9036\n",
      "Epoch 15/20\n",
      "25/25 [==============================] - 0s 6ms/step - loss: 0.1911 - accuracy: 0.9326 - val_loss: 0.2827 - val_accuracy: 0.9036\n",
      "Epoch 16/20\n",
      "25/25 [==============================] - 0s 6ms/step - loss: 0.2302 - accuracy: 0.9274 - val_loss: 0.2708 - val_accuracy: 0.9086\n",
      "Epoch 17/20\n",
      "25/25 [==============================] - 0s 6ms/step - loss: 0.1741 - accuracy: 0.9379 - val_loss: 0.2620 - val_accuracy: 0.9086\n",
      "Epoch 18/20\n",
      "25/25 [==============================] - 0s 7ms/step - loss: 0.1975 - accuracy: 0.9230 - val_loss: 0.2552 - val_accuracy: 0.9137\n",
      "Epoch 19/20\n",
      "25/25 [==============================] - 0s 7ms/step - loss: 0.1919 - accuracy: 0.9336 - val_loss: 0.2504 - val_accuracy: 0.9137\n",
      "Epoch 20/20\n",
      "25/25 [==============================] - 0s 7ms/step - loss: 0.2012 - accuracy: 0.9298 - val_loss: 0.2478 - val_accuracy: 0.9137\n"
     ]
    },
    {
     "data": {
      "image/png": "[encoded data removed]",
      "text/plain": [
       "<Figure size 432x288 with 1 Axes>"
      ]
     },
     "metadata": {
      "needs_background": "light"
     },
     "output_type": "display_data"
    },
    {
     "data": {
      "image/png": "[encoded data removed]",
      "text/plain": [
       "<Figure size 432x288 with 1 Axes>"
      ]
     },
     "metadata": {
      "needs_background": "light"
     },
     "output_type": "display_data"
    }
   ],
   "source": [
    "model.compile(optimizer=Adam(lr=0.0001), loss = 'binary_crossentropy', metrics=['accuracy'])\n",
    "history = model.fit(X_train, y_train, epochs=epochs, validation_data=(X_test, y_test), verbose=1)\n",
    "plot_learningCurve(history, epochs)"
   ]
  },
  {
   "cell_type": "code",
   "execution_count": null,
   "metadata": {},
   "outputs": [],
   "source": []
  }
 ],
 "metadata": {
  "kernelspec": {
   "display_name": "Python 3",
   "language": "python",
   "name": "python3"
  },
  "language_info": {
   "codemirror_mode": {
    "name": "ipython",
    "version": 3
   },
   "file_extension": ".py",
   "mimetype": "text/x-python",
   "name": "python",
   "nbconvert_exporter": "python",
   "pygments_lexer": "ipython3",
   "version": "3.7.6"
  }
 },
 "nbformat": 4,
 "nbformat_minor": 4
}
